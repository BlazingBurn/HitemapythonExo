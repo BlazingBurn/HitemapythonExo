{
  "nbformat": 4,
  "nbformat_minor": 0,
  "metadata": {
    "colab": {
      "provenance": [],
      "collapsed_sections": [],
      "authorship_tag": "ABX9TyNFMDQ9RDXuNljDT2/C0qtS",
      "include_colab_link": true
    },
    "kernelspec": {
      "name": "python3",
      "display_name": "Python 3"
    },
    "language_info": {
      "name": "python"
    }
  },
  "cells": [
    {
      "cell_type": "markdown",
      "metadata": {
        "id": "view-in-github",
        "colab_type": "text"
      },
      "source": [
        "<a href=\"https://colab.research.google.com/github/BlazingBurn/HitemapythonExo/blob/main/Mini_exo_algo.ipynb\" target=\"_parent\"><img src=\"https://colab.research.google.com/assets/colab-badge.svg\" alt=\"Open In Colab\"/></a>"
      ]
    },
    {
      "cell_type": "markdown",
      "source": [
        "# **1 Question**\n",
        "Donner une définition de la complexité algorithmique et donner trois exemples\n",
        "de types de complexité temporelle en notation grand O.\n",
        "\n",
        "\n",
        "*Réponse :*\n",
        "\n",
        "La complexité algorithmique (O(n)) est liée aux boucles, temps execution, ect...\n",
        "\n",
        "On pourrait traduire par : \"**Pour une entrer de taille n combien de temps va prendre mon programme a s'executer en fonction de la taille de mon tableau, de la taille n**\"."
      ],
      "metadata": {
        "id": "j0JwN7fK1yaO"
      }
    },
    {
      "cell_type": "markdown",
      "source": [
        "# 2 Algorithmes\n",
        "Pour chaque algorithme donner sa complexité ainsi qu'une justification.\n",
        "\n",
        "## 2.1 Condition et produit\n",
        "Ecrire un algorithme qui demande deux nombres à l'utilisateur et l'informe en\n",
        "suite si leur produit est négatif ou positif (on laisse de côté le cas où le produit est nul). Attention toute fois : on ne doit pas calculer le produit des deux nombres.\n",
        "\n",
        "<br/>\n",
        "\n",
        "**PSEUDO CODE :**\n",
        "\n",
        "Fonction estProduitPositif (x, y)\n",
        "\n",
        "  &emsp;SI X ET Y PLUS GRAND QUE 0 OU X ET Y PLUS PETIT QUE 0 ALORS<br/>\n",
        "    &emsp;&emsp;AFFICHER \"POSITIF\"<br/>\n",
        "  &emsp;FIN SI\n",
        "  \n",
        "  &emsp;SINON<br/>\n",
        "      &emsp;&emsp;AFFICHER \"NEGATIF\";<br/>\n",
        "  &emsp;FIN SINON<br/>\n",
        "\n",
        "FIN FONCTION"
      ],
      "metadata": {
        "id": "ibBkawMZ2OSy"
      }
    },
    {
      "cell_type": "code",
      "source": [
        "def isPositif(x:int, y:int):\n",
        "\n",
        "  if int(x) > 0 and int(y) > 0 or int(x) < 0 and int(y) < 0:\n",
        "      print(\"positif\")\n",
        "  else:\n",
        "      print(\"négatif\")\n",
        "\n",
        "x = input(\"Tapez la valeur de x (entier) : \")\n",
        "y = input(\"Tapez la valeur de y (entier) : \")\n",
        "isPositif(int(x), int(y))"
      ],
      "metadata": {
        "colab": {
          "base_uri": "https://localhost:8080/"
        },
        "id": "QTrkcJBj2P3R",
        "outputId": "481e2431-8e01-4abe-98f7-9f50d8264a2f"
      },
      "execution_count": 12,
      "outputs": [
        {
          "output_type": "stream",
          "name": "stdout",
          "text": [
            "Tapez la valeur de x (entier) : -7\n",
            "Tapez la valeur de y (entier) : 4\n",
            "négatif\n"
          ]
        }
      ]
    },
    {
      "cell_type": "markdown",
      "source": [
        "Cette algorithme aura une complexité de :\n",
        "- Dans le meilleur des cas **O(1)**\n",
        "- Dans le pire des cas **O(1)**"
      ],
      "metadata": {
        "id": "IOPBHwhK-ZfS"
      }
    },
    {
      "cell_type": "markdown",
      "source": [
        "## 2.2 Additivté\n",
        "Ecrire un algorithme qui demande un nombre de départ, et qui calcule la somme\n",
        "des entiers jusqu'à ce nombre. Par exemple, si l'on entre 5, le programme doit\n",
        "calculer : 1 + 2 + 3 + 4 + 5 = 15.\n",
        "\n",
        "<br/>\n",
        "\n",
        "**PSEUDO CODE :**\n",
        "\n",
        "Fonction additivité (n)\n",
        "\n",
        "  &emsp;r = 0<br/>\n",
        "  &emsp;POUR i de 1 jusqu'a n avec un pas de 1<br/>\n",
        "    &emsp;&emsp;r = r + i<br/>\n",
        "  &emsp;FIN POUR<br/>\n",
        "\n",
        "  &emsp;RETOURNER r<br/>\n",
        "\n",
        "FIN FONCTION"
      ],
      "metadata": {
        "id": "sE2FRGNl2OKW"
      }
    },
    {
      "cell_type": "code",
      "source": [
        "def additivte(n):\n",
        "    r = 0\n",
        "    for i in range (1, n+1):\n",
        "        r = r + i\n",
        "    return r\n",
        "\n",
        "n = input(\"Tapez la valeur de n : \")\n",
        "print(additivte(int(n)))"
      ],
      "metadata": {
        "colab": {
          "base_uri": "https://localhost:8080/"
        },
        "id": "b3b_dKSf2RNT",
        "outputId": "71637462-fe49-429a-ea96-ef18dc55bf95"
      },
      "execution_count": 14,
      "outputs": [
        {
          "output_type": "stream",
          "name": "stdout",
          "text": [
            "Tapez la valeur de n : 5\n",
            "15\n"
          ]
        }
      ]
    },
    {
      "cell_type": "markdown",
      "source": [
        "Cette algorithme aura une complexité de :\n",
        "- Dans le meilleur des cas **O(n)**\n",
        "- Dans le pire des cas **O(n)**"
      ],
      "metadata": {
        "id": "uUiJSo1tC6uP"
      }
    },
    {
      "cell_type": "markdown",
      "source": [
        "## 2.3 Somme des éléments d'un tableau\n",
        "Ecrire un algorithme calculant la somme des valeurs d'un tableau (on suppose\n",
        "bien sur que le tableau a été préalablement saisi).\n",
        "\n",
        "<br/>\n",
        "\n",
        "**PSEUDO CODE :**\n",
        "\n",
        "Fonction sumTab (liste)\n",
        "\n",
        "  &emsp;r = 0<br/>\n",
        "  &emsp;POUR i dans liste FAIRE<br/>\n",
        "    &emsp;&emsp;r = r + liste[i]<br/>\n",
        "  &emsp;FIN POUR<br/>\n",
        "\n",
        "  &emsp;RETOURNER r<br/>\n",
        "\n",
        "FIN FONCTION\n"
      ],
      "metadata": {
        "id": "7CEm8isv2N1v"
      }
    },
    {
      "cell_type": "code",
      "execution_count": 15,
      "metadata": {
        "colab": {
          "base_uri": "https://localhost:8080/"
        },
        "id": "gIT-GXQa1sN9",
        "outputId": "f7778b77-b70b-45d6-acd8-f38de6bda77c"
      },
      "outputs": [
        {
          "output_type": "stream",
          "name": "stdout",
          "text": [
            "14\n"
          ]
        }
      ],
      "source": [
        "def sumTab(liste):\n",
        "    r = 0\n",
        "    for i in liste:\n",
        "        r = r + i\n",
        "    return r\n",
        "\n",
        "liste = [1,5,8]\n",
        "print(sumTab(liste))"
      ]
    },
    {
      "cell_type": "markdown",
      "source": [
        "Cette algorithme aura une complexité de :\n",
        "- Dans le meilleur des cas **O(n)**\n",
        "- Dans le pire des cas **O(n)**"
      ],
      "metadata": {
        "id": "dMypFBNzD6nG"
      }
    },
    {
      "cell_type": "markdown",
      "source": [
        "## 2.4 FacProduct\n",
        "Toujours à partir de deux tableaux précédemment saisis, écrire un algorithme qui calcule le 'FacProduct' des deux tableaux. Pour calculer le 'FacProduct', il faut multiplier deux à deux les éléments des tableaux et additionner le tout (le résultat final doit donc est un réel).\n",
        "\n",
        "<br/>\n",
        "\n",
        "**PSEUDO CODE :**\n",
        "\n",
        "Fonction facProduct (liste1, liste2)\n",
        "\n",
        "  &emsp;r = 0<br/>\n",
        "  &emsp;POUR i dans liste1 FAIRE<br/>\n",
        "    &emsp;&emsp;POUR f dans liste2 FAIRE<br/>\n",
        "      &emsp;&emsp;&emsp;r = r + (i * f)<br/>\n",
        "    &emsp;&emsp;FIN POUR<br/>\n",
        "  &emsp;FIN POUR<br/>\n",
        "\n",
        "  &emsp;RETOURNER r<br/>\n",
        "\n",
        "FIN FONCTION"
      ],
      "metadata": {
        "id": "WOaozdqTD6kq"
      }
    },
    {
      "cell_type": "code",
      "source": [
        "def facProduct(liste1, liste2):\n",
        "    r = 0\n",
        "    for i in liste1:\n",
        "      for f in liste2:\n",
        "        r = r + (i * f)\n",
        "    return r\n",
        "\n",
        "liste1 = [1,5,8]\n",
        "liste2 = [2,4,6]\n",
        "print(facProduct(liste1, liste2))"
      ],
      "metadata": {
        "colab": {
          "base_uri": "https://localhost:8080/"
        },
        "id": "L6atooCUGUdU",
        "outputId": "60934307-33dd-443d-e4a6-6b02dc7f0bc4"
      },
      "execution_count": 16,
      "outputs": [
        {
          "output_type": "stream",
          "name": "stdout",
          "text": [
            "168\n"
          ]
        }
      ]
    },
    {
      "cell_type": "markdown",
      "source": [
        "Cette algorithme aura une complexité de :\n",
        "- Dans le meilleur des cas **O(n²)**\n",
        "- Dans le pire des cas **O(n²)**\n"
      ],
      "metadata": {
        "id": "i_ivH0GgD6h3"
      }
    },
    {
      "cell_type": "markdown",
      "source": [
        "## 2.5 Le plus grand\n",
        "\n",
        "Ecrire un algorithme permettant à l'utilisateur de renvoyer la plus grande valeur du tableau passer en input en précisant quelle position elle occupe dans le tableau.\n",
        "\n",
        "<br/>\n",
        "\n",
        "**PSEUDO CODE :**\n",
        "\n",
        "Fonction bigest (liste)\n",
        "\n",
        "  &emsp;r = 0<br/>\n",
        "  &emsp;POUR i dans liste FAIRE<br/>\n",
        "    &emsp;&emsp;SI i est plus grand que r ALORS<br/>\n",
        "      &emsp;&emsp;&emsp;r = i<br/>\n",
        "    &emsp;&emsp;FIN SI<br/>\n",
        "  &emsp;FIN POUR<br/>\n",
        "\n",
        "  &emsp;RETOURNER r<br/>\n",
        "\n",
        "FIN FONCTION"
      ],
      "metadata": {
        "id": "pebqOLAuD6fU"
      }
    },
    {
      "cell_type": "code",
      "source": [
        "def bigest(liste):\n",
        "    r = 0\n",
        "    for i in liste:\n",
        "      if i > r :\n",
        "        r = i\n",
        "    return r\n",
        "\n",
        "liste = [2,4,6,7,78,48,98,-99,74,84]\n",
        "print(bigest(liste))"
      ],
      "metadata": {
        "colab": {
          "base_uri": "https://localhost:8080/"
        },
        "id": "qiE8860fHo5g",
        "outputId": "73d9b8f7-7aca-4e4a-8768-27cda79e189c"
      },
      "execution_count": 18,
      "outputs": [
        {
          "output_type": "stream",
          "name": "stdout",
          "text": [
            "98\n"
          ]
        }
      ]
    },
    {
      "cell_type": "markdown",
      "source": [
        "Cette algorithme aura une complexité de :\n",
        "- Dans le meilleur des cas **O(n)**\n",
        "- Dans le pire des cas **O(n)**"
      ],
      "metadata": {
        "id": "ZyxRES9XHpQO"
      }
    },
    {
      "cell_type": "markdown",
      "source": [
        "## 2.6 Plus grand que la moyenne\n",
        "\n",
        "Ecrire un algorithme permettant à l'utilisateur de renvoyer le nombre de valeur supérieures à la moyenne d'un tableau passé en input de taille n.\n",
        "\n",
        "<br/>\n",
        "\n",
        "**PSEUDO CODE :**\n",
        "\n",
        "Fonction bigestThanAverage (liste)\n",
        "\n",
        "  &emsp;r = 0<br/>\n",
        "  &emsp;average = CALCULE de la moyenne avec sum(liste)/len(liste)<br/>\n",
        "\n",
        "  &emsp;POUR i dans liste FAIRE<br/>\n",
        "    &emsp;&emsp;SI i est plus grand que average ALORS<br/>\n",
        "      &emsp;&emsp;&emsp;r += 1<br/>\n",
        "    &emsp;&emsp;FIN POUR<br/>\n",
        "  &emsp;FIN POUR<br/>\n",
        "\n",
        "  &emsp;AFFICHER \"Le nombre de valeur supérieures à la moyenne est de : r\"<br/>\n",
        "\n",
        "FIN FONCTION"
      ],
      "metadata": {
        "id": "SDw6UN5vD6cg"
      }
    },
    {
      "cell_type": "code",
      "source": [
        "import numpy\n",
        "\n",
        "def bigestThanAverage (liste):\n",
        "    r = 0\n",
        "\n",
        "    # Calcule la moyenne - autre méthode : sum(liste)/len(liste)\n",
        "    average = numpy.mean(liste)\n",
        "    print(average)\n",
        "\n",
        "    for i in liste:\n",
        "      if i > average:\n",
        "        r += 1\n",
        "    print (\"Le nombre de valeur supérieures à la moyenne est de : \", r)\n",
        "\n",
        "liste = [2,5,3,7]\n",
        "bigestThanAverage(liste)"
      ],
      "metadata": {
        "colab": {
          "base_uri": "https://localhost:8080/"
        },
        "id": "igaQIHOFHq-Y",
        "outputId": "9a81741f-be89-4fdb-b9b8-01ff04d9fb4a"
      },
      "execution_count": 24,
      "outputs": [
        {
          "output_type": "stream",
          "name": "stdout",
          "text": [
            "4.25\n",
            "Le nombre de valeur supérieures à la moyenne est de :  2\n"
          ]
        }
      ]
    },
    {
      "cell_type": "markdown",
      "source": [
        "Cette algorithme aura une complexité de :\n",
        "- Dans le meilleur des cas **O(n²)**\n",
        "- Dans le pire des cas **O(n²)**"
      ],
      "metadata": {
        "id": "Dup61sV6Hrpn"
      }
    },
    {
      "cell_type": "markdown",
      "source": [
        "## 2.7 Multiplier des vecteurs\n",
        "\n",
        "Ecrire un algorithme permettant d'effectuer la multiplication de deux vecteurs\n",
        "de taille N connue à l'avance et d'afficher le résultat.\n",
        "\n",
        "<br/>\n",
        "\n",
        "**PSEUDO CODE :**\n",
        "\n",
        "Fonction multiVectors (vector1, vector2)\n",
        "\n",
        "  &emsp;r = calcule avec np.dot(vector1; vector2)<br/>\n",
        "\n",
        "  &emsp;AFFICHER \"la multiplication des deux vecteurs : vector1 et vector2 donne le resultat : r\"<br/>\n",
        "\n",
        "FIN FONCTION"
      ],
      "metadata": {
        "id": "poWRVgvUD6D0"
      }
    },
    {
      "cell_type": "code",
      "source": [
        "import numpy as np\n",
        "\n",
        "def multiVectors (vector1, vector2):\n",
        "\n",
        "    r = np.dot(vector1, vector2)\n",
        "\n",
        "    print (\"La multiplication des deux vecteurs : \", vector1, \" et \", vector2, \" donne le resultat : \", r)\n",
        "\n",
        "vector1 = np.array([1,2,3], float)\n",
        "vector2 = np.array([5,6,7], float)\n",
        "multiVectors(vector1, vector2)"
      ],
      "metadata": {
        "colab": {
          "base_uri": "https://localhost:8080/"
        },
        "id": "pBg_Y1vAHs7I",
        "outputId": "7dcc4614-dc8d-4695-d484-36195596e1ad"
      },
      "execution_count": 27,
      "outputs": [
        {
          "output_type": "stream",
          "name": "stdout",
          "text": [
            "La multiplication des deux vecteurs :  [1. 2. 3.]  et  [5. 6. 7.]  donne le resultat :  38.0\n"
          ]
        }
      ]
    },
    {
      "cell_type": "markdown",
      "source": [
        "Cette algorithme aura une complexité de :\n",
        "- Dans le meilleur des cas **O(n²)**\n",
        "- Dans le pire des cas **O(n²)**"
      ],
      "metadata": {
        "id": "BZk0ep6ZHtUZ"
      }
    },
    {
      "cell_type": "markdown",
      "source": [
        "## 2.8 Tris\n",
        "\n",
        "Ecrire un algorithme permettant de trier un tableau de taille n.\n",
        "\n",
        "<br/>\n",
        "\n",
        "**PSEUDO CODE :**\n",
        "\n",
        "Fonction multiVectors (vector1, vector2)\n",
        "\n",
        "  &emsp;r = 0<br/>\n",
        "  &emsp;<br/>\n",
        "  \n",
        "    &emsp;&emsp;<br/>\n",
        "    &emsp;&emsp;<br/>\n",
        "\n",
        "  &emsp;<br/>\n",
        "\n",
        "  &emsp;RETOURNER r<br/>\n",
        "\n",
        "FIN FONCTION"
      ],
      "metadata": {
        "id": "j2SW55afPCFz"
      }
    },
    {
      "cell_type": "code",
      "source": [],
      "metadata": {
        "id": "Nh-6SvVSPBfb"
      },
      "execution_count": null,
      "outputs": []
    },
    {
      "cell_type": "markdown",
      "source": [
        "Cette algorithme aura une complexité de :\n",
        "- Dans le meilleur des cas **O(n²)**\n",
        "- Dans le pire des cas **O(n²)**"
      ],
      "metadata": {
        "id": "DpyGfjLnPEJn"
      }
    },
    {
      "cell_type": "markdown",
      "source": [
        "## \n",
        "\n",
        "\n",
        "\n",
        "<br/>\n",
        "\n",
        "**PSEUDO CODE :**\n",
        "\n",
        "Fonction multiVectors (vector1, vector2)\n",
        "\n",
        "  &emsp;r = 0<br/>\n",
        "  &emsp;<br/>\n",
        "  \n",
        "    &emsp;&emsp;<br/>\n",
        "    &emsp;&emsp;<br/>\n",
        "\n",
        "  &emsp;<br/>\n",
        "\n",
        "  &emsp;RETOURNER r<br/>\n",
        "\n",
        "FIN FONCTION"
      ],
      "metadata": {
        "id": "xzALCGjJPFOO"
      }
    },
    {
      "cell_type": "code",
      "source": [],
      "metadata": {
        "id": "qtlOeP57PE-r"
      },
      "execution_count": null,
      "outputs": []
    },
    {
      "cell_type": "markdown",
      "source": [
        "Cette algorithme aura une complexité de :\n",
        "- Dans le meilleur des cas **O(n²)**\n",
        "- Dans le pire des cas **O(n²)**"
      ],
      "metadata": {
        "id": "GScXxPrSPFyW"
      }
    },
    {
      "cell_type": "markdown",
      "source": [
        "## \n",
        "\n",
        "\n",
        "\n",
        "<br/>\n",
        "\n",
        "**PSEUDO CODE :**\n",
        "\n",
        "Fonction multiVectors (vector1, vector2)\n",
        "\n",
        "  &emsp;r = 0<br/>\n",
        "  &emsp;<br/>\n",
        "  \n",
        "    &emsp;&emsp;<br/>\n",
        "    &emsp;&emsp;<br/>\n",
        "\n",
        "  &emsp;<br/>\n",
        "\n",
        "  &emsp;RETOURNER r<br/>\n",
        "\n",
        "FIN FONCTION"
      ],
      "metadata": {
        "id": "nwckChJmPGl8"
      }
    },
    {
      "cell_type": "code",
      "source": [],
      "metadata": {
        "id": "AW3MSe-8PHHJ"
      },
      "execution_count": null,
      "outputs": []
    },
    {
      "cell_type": "markdown",
      "source": [
        "Cette algorithme aura une complexité de :\n",
        "- Dans le meilleur des cas **O(n²)**\n",
        "- Dans le pire des cas **O(n²)**\n",
        "\n"
      ],
      "metadata": {
        "id": "q4WoCPbkPHXq"
      }
    }
  ]
}